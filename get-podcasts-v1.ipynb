{
 "cells": [
  {
   "cell_type": "code",
   "execution_count": 2,
   "metadata": {},
   "outputs": [],
   "source": [
    "import getpodcast\n",
    "import os"
   ]
  },
  {
   "cell_type": "code",
   "execution_count": 5,
   "metadata": {},
   "outputs": [
    {
     "name": "stderr",
     "output_type": "stream",
     "text": [
      "usage: ipykernel_launcher.py [-h] [--run] [--dryrun] [--onlynew] [--quiet]\n",
      "                             [--list] [--keywords] [--podcast PODCAST]\n",
      "                             [--date-from DATE_FROM] [--root-dir ROOT_DIR]\n",
      "ipykernel_launcher.py: error: unrecognized arguments: -f /Users/nadaa/Library/Jupyter/runtime/kernel-f946569b-eeb6-4d87-9e95-9436798c4dec.json\n"
     ]
    },
    {
     "ename": "SystemExit",
     "evalue": "2",
     "output_type": "error",
     "traceback": [
      "An exception has occurred, use %tb to see the full traceback.\n",
      "\u001b[0;31mSystemExit\u001b[0m\u001b[0;31m:\u001b[0m 2\n"
     ]
    },
    {
     "name": "stderr",
     "output_type": "stream",
     "text": [
      "/Users/nadaa/Github/aws_transcribe_podcast/ENV/lib/python3.6/site-packages/IPython/core/interactiveshell.py:2971: UserWarning: To exit: use 'exit', 'quit', or Ctrl-D.\n",
      "  warn(\"To exit: use 'exit', 'quit', or Ctrl-D.\", stacklevel=1)\n"
     ]
    }
   ],
   "source": [
    "opt = getpodcast.parseArguments_AsOptions(\n",
    "    date_from = '2018-07-20',\n",
    "    root_dir = \"/Users/nadaa/Github/aws_transcribe_podcast/Data/test-getpodcast\")"
   ]
  },
  {
   "cell_type": "code",
   "execution_count": 6,
   "metadata": {},
   "outputs": [
    {
     "name": "stderr",
     "output_type": "stream",
     "text": [
      "usage: ipykernel_launcher.py [-h] [--run] [--dryrun] [--onlynew] [--quiet]\n",
      "                             [--list] [--keywords] [--podcast PODCAST]\n",
      "                             [--date-from DATE_FROM] [--root-dir ROOT_DIR]\n",
      "ipykernel_launcher.py: error: unrecognized arguments: -f /Users/nadaa/Library/Jupyter/runtime/kernel-f946569b-eeb6-4d87-9e95-9436798c4dec.json\n"
     ]
    },
    {
     "ename": "SystemExit",
     "evalue": "2",
     "output_type": "error",
     "traceback": [
      "An exception has occurred, use %tb to see the full traceback.\n",
      "\u001b[0;31mSystemExit\u001b[0m\u001b[0;31m:\u001b[0m 2\n"
     ]
    },
    {
     "name": "stderr",
     "output_type": "stream",
     "text": [
      "/Users/nadaa/Github/aws_transcribe_podcast/ENV/lib/python3.6/site-packages/IPython/core/interactiveshell.py:2971: UserWarning: To exit: use 'exit', 'quit', or Ctrl-D.\n",
      "  warn(\"To exit: use 'exit', 'quit', or Ctrl-D.\", stacklevel=1)\n"
     ]
    }
   ],
   "source": [
    "opt = getpodcast.parseArguments_AsOptions(\n",
    "    date_from='2018-07-20',\n",
    "    root_dir=os.path.expanduser('~/podcast'))"
   ]
  },
  {
   "cell_type": "code",
   "execution_count": null,
   "metadata": {},
   "outputs": [],
   "source": [
    "opt = getpodcast.parseArguments_AsOptions(\n",
    "    date_from='2018-07-20',\n",
    "    root_dir=os.path.expanduser('~/podcast'))\n",
    "\n",
    "filename_template = \"{rootdir}/{podcast}/{year}/{date} - {title}{ext}\"\n",
    "\n",
    "podcasts = {\n",
    "    \"SGU\":\"http://www.theskepticsguide.org/feed/sgu\",\n",
    "    \"Bad Voltage\":\"http://www.badvoltage.org/feed/mp3/\",\n",
    "    \"Radiolab\":\"http://www.radiolab.org/feeds/podcast/\",\n",
    "    \"Serial\":\"http://feeds.serialpodcast.org/serialpodcast?format=xml\",\n",
    "    \"Invisibilia\":\"http://www.npr.org/rss/podcast.php?id=510307\",\n",
    "    \"TPB\":\"http://tpbpodcast.libsyn.com/rss\",\n",
    "    \"Alt du sier er feil\":\"http://rss.acast.com/altdusiererfeil\",\n",
    "}\n",
    "\n",
    "getpodcast.getpodcast(podcasts, filename_template, opt)"
   ]
  },
  {
   "cell_type": "code",
   "execution_count": 8,
   "metadata": {},
   "outputs": [
    {
     "name": "stderr",
     "output_type": "stream",
     "text": [
      "usage: ipykernel_launcher.py [-h] [--run] [--dryrun] [--onlynew] [--quiet]\n",
      "                             [--list] [--keywords] [--podcast PODCAST]\n",
      "                             [--date-from DATE_FROM] [--root-dir ROOT_DIR]\n",
      "ipykernel_launcher.py: error: unrecognized arguments: -f /Users/nadaa/Library/Jupyter/runtime/kernel-f946569b-eeb6-4d87-9e95-9436798c4dec.json\n"
     ]
    },
    {
     "ename": "SystemExit",
     "evalue": "2",
     "output_type": "error",
     "traceback": [
      "An exception has occurred, use %tb to see the full traceback.\n",
      "\u001b[0;31mSystemExit\u001b[0m\u001b[0;31m:\u001b[0m 2\n"
     ]
    },
    {
     "name": "stderr",
     "output_type": "stream",
     "text": [
      "/Users/nadaa/Github/aws_transcribe_podcast/ENV/lib/python3.6/site-packages/IPython/core/interactiveshell.py:2971: UserWarning: To exit: use 'exit', 'quit', or Ctrl-D.\n",
      "  warn(\"To exit: use 'exit', 'quit', or Ctrl-D.\", stacklevel=1)\n"
     ]
    }
   ],
   "source": [
    "import os\n",
    "import getpodcast\n",
    "\n",
    "opt = getpodcast.parseArguments_AsOptions(\n",
    "    date_from='2016-08-01',\n",
    "    root_dir=os.path.expanduser('~/podcast'))\n",
    "\n",
    "filename_template = \"{rootdir}/{podcast}/{year}/{date} - {title}{ext}\"\n",
    "\n",
    "podcasts = {\n",
    "    \"SGU\":\"http://www.theskepticsguide.org/feed/sgu\"\n",
    "    \n",
    "}\n",
    "\n",
    "getpodcast.getpodcast(podcasts, filename_template, opt)"
   ]
  },
  {
   "cell_type": "code",
   "execution_count": null,
   "metadata": {},
   "outputs": [],
   "source": []
  }
 ],
 "metadata": {
  "kernelspec": {
   "display_name": "aws-transcribe",
   "language": "python",
   "name": "aws-transcribe"
  },
  "language_info": {
   "codemirror_mode": {
    "name": "ipython",
    "version": 3
   },
   "file_extension": ".py",
   "mimetype": "text/x-python",
   "name": "python",
   "nbconvert_exporter": "python",
   "pygments_lexer": "ipython3",
   "version": "3.6.5"
  }
 },
 "nbformat": 4,
 "nbformat_minor": 2
}
