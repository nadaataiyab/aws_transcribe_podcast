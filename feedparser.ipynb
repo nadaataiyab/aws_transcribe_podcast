{
 "cells": [
  {
   "cell_type": "code",
   "execution_count": 1,
   "metadata": {},
   "outputs": [],
   "source": [
    "import time\n",
    "import boto3\n",
    "import feedparser"
   ]
  },
  {
   "cell_type": "code",
   "execution_count": 2,
   "metadata": {},
   "outputs": [],
   "source": [
    "d = feedparser.parse(\"http://yournutritionprescription.libsyn.com/episode-253\")"
   ]
  },
  {
   "cell_type": "code",
   "execution_count": 9,
   "metadata": {},
   "outputs": [
    {
     "data": {
      "text/plain": [
       "dict_values([{'html': {'lang': 'en'}, 'meta': {'name': 'twitter:description', 'content': 'Small intestinal bacterial overgrowth, also known as SIBO, is a common cause of digestive issues, which often drive chronic health issues such as hormonal imbalance, depression, adrenal dysregulation, and a host of different autoimmune diseases.&nbsp; When bacteria overgrow in the small intestine those bacteria actually eat our food before we do and they poop out waste products, stimulate, the immune system and create massive amounts of chronic inflammation.&nbsp; Today is part 1 in a 2 part series that I am doing on SIBO. In this episode we are going to talk about some of the reasons why people develop SIBO to set the stage for part 2 where we will discuss how to address SIBO.&nbsp; You don\\'t want to miss this valuable information.&nbsp; &nbsp; &nbsp; Thank you for tuning in to another episode of \"Your Nutrition Prescription\". If you haven\\'t left a review for the show, I would appreciate it if you could take the time to do so now.&nbsp; &nbsp; Schedule a Consultation Health IQ Supplements &nbsp; &nbsp; '}, 'links': [{'rel': 'alternate', 'type': 'text/json+oembed', 'href': 'http://oembed.libsyn.com?item_id=6840097'}]}, [], 1, {'Server': 'Apache/2.2.15 (CentOS)', 'Vary': 'Accept-Encoding', 'Access-Control-Allow-Origin': '*', 'X-Libsyn-Host': 'we1', 'Content-Type': 'text/html; charset=UTF-8', 'last-modified': 'Wed, 25 Jul 2018 16:47:21 GMT', 'Content-Length': '8721', 'Accept-Ranges': 'bytes', 'Date': 'Wed, 25 Jul 2018 16:47:57 GMT', 'X-Varnish': '1729571562 1729542877', 'Via': '1.1 varnish', 'X-Libsyn-Proxy': 'wp3', 'X-Cache': 'HIT', 'Connection': 'close', 'Content-Encoding': 'gzip', 'Age': '36'}, 'Wed, 25 Jul 2018 16:47:21 GMT', time.struct_time(tm_year=2018, tm_mon=7, tm_mday=25, tm_hour=16, tm_min=47, tm_sec=21, tm_wday=2, tm_yday=206, tm_isdst=0), 'http://yournutritionprescription.libsyn.com/episode-253', 200, 'UTF-8', SAXParseException('not well-formed (invalid token)',), '', {}])"
      ]
     },
     "execution_count": 9,
     "metadata": {},
     "output_type": "execute_result"
    }
   ],
   "source": [
    "d.values()"
   ]
  },
  {
   "cell_type": "code",
   "execution_count": 15,
   "metadata": {},
   "outputs": [
    {
     "data": {
      "text/plain": [
       "dict_keys(['feed', 'entries', 'bozo', 'headers', 'updated', 'updated_parsed', 'href', 'status', 'encoding', 'bozo_exception', 'version', 'namespaces'])"
      ]
     },
     "execution_count": 15,
     "metadata": {},
     "output_type": "execute_result"
    }
   ],
   "source": [
    "d.keys()"
   ]
  },
  {
   "cell_type": "code",
   "execution_count": 17,
   "metadata": {},
   "outputs": [
    {
     "data": {
      "text/plain": [
       "{'html': {'lang': 'en'},\n",
       " 'meta': {'name': 'twitter:description',\n",
       "  'content': 'Small intestinal bacterial overgrowth, also known as SIBO, is a common cause of digestive issues, which often drive chronic health issues such as hormonal imbalance, depression, adrenal dysregulation, and a host of different autoimmune diseases.&nbsp; When bacteria overgrow in the small intestine those bacteria actually eat our food before we do and they poop out waste products, stimulate, the immune system and create massive amounts of chronic inflammation.&nbsp; Today is part 1 in a 2 part series that I am doing on SIBO. In this episode we are going to talk about some of the reasons why people develop SIBO to set the stage for part 2 where we will discuss how to address SIBO.&nbsp; You don\\'t want to miss this valuable information.&nbsp; &nbsp; &nbsp; Thank you for tuning in to another episode of \"Your Nutrition Prescription\". If you haven\\'t left a review for the show, I would appreciate it if you could take the time to do so now.&nbsp; &nbsp; Schedule a Consultation Health IQ Supplements &nbsp; &nbsp; '},\n",
       " 'links': [{'rel': 'alternate',\n",
       "   'type': 'text/json+oembed',\n",
       "   'href': 'http://oembed.libsyn.com?item_id=6840097'}]}"
      ]
     },
     "execution_count": 17,
     "metadata": {},
     "output_type": "execute_result"
    }
   ],
   "source": [
    "d.feed"
   ]
  },
  {
   "cell_type": "code",
   "execution_count": 18,
   "metadata": {},
   "outputs": [
    {
     "data": {
      "text/plain": [
       "1"
      ]
     },
     "execution_count": 18,
     "metadata": {},
     "output_type": "execute_result"
    }
   ],
   "source": [
    "d.bozo"
   ]
  },
  {
   "cell_type": "code",
   "execution_count": 19,
   "metadata": {},
   "outputs": [
    {
     "data": {
      "text/plain": [
       "{'Server': 'Apache/2.2.15 (CentOS)',\n",
       " 'Vary': 'Accept-Encoding',\n",
       " 'Access-Control-Allow-Origin': '*',\n",
       " 'X-Libsyn-Host': 'we1',\n",
       " 'Content-Type': 'text/html; charset=UTF-8',\n",
       " 'last-modified': 'Wed, 25 Jul 2018 16:47:21 GMT',\n",
       " 'Content-Length': '8721',\n",
       " 'Accept-Ranges': 'bytes',\n",
       " 'Date': 'Wed, 25 Jul 2018 16:47:57 GMT',\n",
       " 'X-Varnish': '1729571562 1729542877',\n",
       " 'Via': '1.1 varnish',\n",
       " 'X-Libsyn-Proxy': 'wp3',\n",
       " 'X-Cache': 'HIT',\n",
       " 'Connection': 'close',\n",
       " 'Content-Encoding': 'gzip',\n",
       " 'Age': '36'}"
      ]
     },
     "execution_count": 19,
     "metadata": {},
     "output_type": "execute_result"
    }
   ],
   "source": [
    "d.headers"
   ]
  },
  {
   "cell_type": "code",
   "execution_count": 20,
   "metadata": {},
   "outputs": [
    {
     "data": {
      "text/plain": [
       "'Wed, 25 Jul 2018 16:47:21 GMT'"
      ]
     },
     "execution_count": 20,
     "metadata": {},
     "output_type": "execute_result"
    }
   ],
   "source": [
    "d.updated"
   ]
  },
  {
   "cell_type": "code",
   "execution_count": 21,
   "metadata": {},
   "outputs": [
    {
     "data": {
      "text/plain": [
       "time.struct_time(tm_year=2018, tm_mon=7, tm_mday=25, tm_hour=16, tm_min=47, tm_sec=21, tm_wday=2, tm_yday=206, tm_isdst=0)"
      ]
     },
     "execution_count": 21,
     "metadata": {},
     "output_type": "execute_result"
    }
   ],
   "source": [
    "d.updated_parsed"
   ]
  },
  {
   "cell_type": "code",
   "execution_count": 22,
   "metadata": {},
   "outputs": [
    {
     "data": {
      "text/plain": [
       "'http://yournutritionprescription.libsyn.com/episode-253'"
      ]
     },
     "execution_count": 22,
     "metadata": {},
     "output_type": "execute_result"
    }
   ],
   "source": [
    "d.href"
   ]
  },
  {
   "cell_type": "code",
   "execution_count": 23,
   "metadata": {},
   "outputs": [
    {
     "data": {
      "text/plain": [
       "200"
      ]
     },
     "execution_count": 23,
     "metadata": {},
     "output_type": "execute_result"
    }
   ],
   "source": [
    "d.status"
   ]
  },
  {
   "cell_type": "code",
   "execution_count": 24,
   "metadata": {},
   "outputs": [
    {
     "data": {
      "text/plain": [
       "xml.sax._exceptions.SAXParseException('not well-formed (invalid token)')"
      ]
     },
     "execution_count": 24,
     "metadata": {},
     "output_type": "execute_result"
    }
   ],
   "source": [
    "d.bozo_exception"
   ]
  },
  {
   "cell_type": "code",
   "execution_count": 25,
   "metadata": {},
   "outputs": [
    {
     "data": {
      "text/plain": [
       "''"
      ]
     },
     "execution_count": 25,
     "metadata": {},
     "output_type": "execute_result"
    }
   ],
   "source": [
    "d.version"
   ]
  },
  {
   "cell_type": "code",
   "execution_count": 26,
   "metadata": {},
   "outputs": [
    {
     "data": {
      "text/plain": [
       "{}"
      ]
     },
     "execution_count": 26,
     "metadata": {},
     "output_type": "execute_result"
    }
   ],
   "source": [
    "d.namespaces"
   ]
  },
  {
   "cell_type": "code",
   "execution_count": 28,
   "metadata": {},
   "outputs": [
    {
     "data": {
      "text/plain": [
       "{'channel': 'feed',\n",
       " 'items': 'entries',\n",
       " 'guid': 'id',\n",
       " 'date': 'updated',\n",
       " 'date_parsed': 'updated_parsed',\n",
       " 'description': ['summary', 'subtitle'],\n",
       " 'description_detail': ['summary_detail', 'subtitle_detail'],\n",
       " 'url': ['href'],\n",
       " 'modified': 'updated',\n",
       " 'modified_parsed': 'updated_parsed',\n",
       " 'issued': 'published',\n",
       " 'issued_parsed': 'published_parsed',\n",
       " 'copyright': 'rights',\n",
       " 'copyright_detail': 'rights_detail',\n",
       " 'tagline': 'subtitle',\n",
       " 'tagline_detail': 'subtitle_detail'}"
      ]
     },
     "execution_count": 28,
     "metadata": {},
     "output_type": "execute_result"
    }
   ],
   "source": [
    "d.keymap"
   ]
  },
  {
   "cell_type": "code",
   "execution_count": 32,
   "metadata": {},
   "outputs": [
    {
     "data": {
      "text/plain": [
       "{'html': {'lang': 'en'},\n",
       " 'meta': {'name': 'twitter:description',\n",
       "  'content': 'Small intestinal bacterial overgrowth, also known as SIBO, is a common cause of digestive issues, which often drive chronic health issues such as hormonal imbalance, depression, adrenal dysregulation, and a host of different autoimmune diseases.&nbsp; When bacteria overgrow in the small intestine those bacteria actually eat our food before we do and they poop out waste products, stimulate, the immune system and create massive amounts of chronic inflammation.&nbsp; Today is part 1 in a 2 part series that I am doing on SIBO. In this episode we are going to talk about some of the reasons why people develop SIBO to set the stage for part 2 where we will discuss how to address SIBO.&nbsp; You don\\'t want to miss this valuable information.&nbsp; &nbsp; &nbsp; Thank you for tuning in to another episode of \"Your Nutrition Prescription\". If you haven\\'t left a review for the show, I would appreciate it if you could take the time to do so now.&nbsp; &nbsp; Schedule a Consultation Health IQ Supplements &nbsp; &nbsp; '},\n",
       " 'links': [{'rel': 'alternate',\n",
       "   'type': 'text/json+oembed',\n",
       "   'href': 'http://oembed.libsyn.com?item_id=6840097'}]}"
      ]
     },
     "execution_count": 32,
     "metadata": {},
     "output_type": "execute_result"
    }
   ],
   "source": [
    "d.channel"
   ]
  },
  {
   "cell_type": "code",
   "execution_count": 33,
   "metadata": {},
   "outputs": [
    {
     "data": {
      "text/plain": [
       "{'html': {'lang': 'en'},\n",
       " 'meta': {'name': 'twitter:description',\n",
       "  'content': 'Small intestinal bacterial overgrowth, also known as SIBO, is a common cause of digestive issues, which often drive chronic health issues such as hormonal imbalance, depression, adrenal dysregulation, and a host of different autoimmune diseases.&nbsp; When bacteria overgrow in the small intestine those bacteria actually eat our food before we do and they poop out waste products, stimulate, the immune system and create massive amounts of chronic inflammation.&nbsp; Today is part 1 in a 2 part series that I am doing on SIBO. In this episode we are going to talk about some of the reasons why people develop SIBO to set the stage for part 2 where we will discuss how to address SIBO.&nbsp; You don\\'t want to miss this valuable information.&nbsp; &nbsp; &nbsp; Thank you for tuning in to another episode of \"Your Nutrition Prescription\". If you haven\\'t left a review for the show, I would appreciate it if you could take the time to do so now.&nbsp; &nbsp; Schedule a Consultation Health IQ Supplements &nbsp; &nbsp; '},\n",
       " 'links': [{'rel': 'alternate',\n",
       "   'type': 'text/json+oembed',\n",
       "   'href': 'http://oembed.libsyn.com?item_id=6840097'}]}"
      ]
     },
     "execution_count": 33,
     "metadata": {},
     "output_type": "execute_result"
    }
   ],
   "source": [
    "d.feed"
   ]
  },
  {
   "cell_type": "code",
   "execution_count": 34,
   "metadata": {},
   "outputs": [],
   "source": [
    "d2 = feedparser.parse(\"https://itunes.apple.com/us/podcast/your-nutrition-prescription-podcast/id1267716638?mt=2\")"
   ]
  },
  {
   "cell_type": "code",
   "execution_count": 41,
   "metadata": {},
   "outputs": [
    {
     "data": {
      "text/plain": [
       "dict_values([{'html': {'prefix': 'og: http://ogp.me/ns#', 'lang': 'en'}, 'meta': {'content': '630', 'property': 'og:image:height'}, 'links': [{'rel': 'canonical', 'href': 'https://itunes.apple.com/us/podcast/your-nutrition-prescription-podcast/id1267716638?mt=2', 'type': 'text/html'}, {'charset': 'utf-8', 'rel': 'stylesheet', 'type': 'text/css', 'href': 'https://s.mzstatic.com/htmlResources/81e9215/web-storefront-base.css'}, {'charset': 'utf-8', 'rel': 'stylesheet', 'type': 'text/css', 'href': 'https://s.mzstatic.com/htmlResources/81e9215/web-storefront-preview.css'}], 'script': {'type': 'text/javascript', 'charset': 'utf-8'}}, [], 1, {'x-apple-jingle-correlation-key': 'VA5RMS2EOCSLB3L3QATRZP7YJE', 'x-apple-request-uuid': 'a83b164b-4470-a4b0-ed7b-80271cbff849', 'x-apple-translated-wo-url': '/WebObjects/MZStore.woa/wa/viewPodcast?mt=2&id=1267716638&cc=us&urlDesc=/your-nutrition-prescription-podcast', 'apple-tk': 'false', 'Content-Type': 'text/html; charset=UTF-8', 'x-webobjects-loadaverage': '0', 'Last-Modified': 'Wed, 25 Jul 2018 16:59:17 GMT', 'apple-seq': '0', 'Access-Control-Allow-Origin': '*', 'apple-originating-system': 'MZStore', 'Content-Encoding': 'gzip', 'strict-transport-security': 'max-age=31536000', 'x-frame-options': 'SAMEORIGIN', 'x-apple-orig-url': 'https://itunes.apple.com/us/podcast/your-nutrition-prescription-podcast/id1267716638?mt=2', 'x-apple-application-site': 'ST11', 'apple-timing-app': '621 ms', 'x-apple-application-instance': '2125358', 'Content-Length': '145187', 'Cache-Control': 'no-transform, max-age=900', 'Date': 'Wed, 25 Jul 2018 16:59:17 GMT', 'X-Cache': 'TCP_MISS from a65-200-23-71.deploy.akamaitechnologies.com (AkamaiGHost/9.4.0.2-22972315) (-)', 'X-True-Cache-Key': '/L/itunes.apple.com/us/podcast/your-nutrition-prescription-podcast/id1267716638 ci2=mt=2__', 'Connection': 'close', 'Vary': 'Accept-Encoding', 'X-Cache-Remote': 'TCP_MISS from a204-1-137-30.deploy.akamaitechnologies.com (AkamaiGHost/9.4.0.2-22972315) (-)', 'X-Apple-Partner': 'origin.0'}, 'Wed, 25 Jul 2018 16:59:17 GMT', time.struct_time(tm_year=2018, tm_mon=7, tm_mday=25, tm_hour=16, tm_min=59, tm_sec=17, tm_wday=2, tm_yday=206, tm_isdst=0), 'https://itunes.apple.com/us/podcast/your-nutrition-prescription-podcast/id1267716638?mt=2', 200, 'UTF-8', SAXParseException('not well-formed (invalid token)',), '', {'': 'http://www.apple.com/itms/'}])"
      ]
     },
     "execution_count": 41,
     "metadata": {},
     "output_type": "execute_result"
    }
   ],
   "source": [
    "d2.values()"
   ]
  },
  {
   "cell_type": "code",
   "execution_count": null,
   "metadata": {},
   "outputs": [],
   "source": []
  }
 ],
 "metadata": {
  "kernelspec": {
   "display_name": "aws-transcribe",
   "language": "python",
   "name": "aws-transcribe"
  },
  "language_info": {
   "codemirror_mode": {
    "name": "ipython",
    "version": 3
   },
   "file_extension": ".py",
   "mimetype": "text/x-python",
   "name": "python",
   "nbconvert_exporter": "python",
   "pygments_lexer": "ipython3",
   "version": "3.6.5"
  }
 },
 "nbformat": 4,
 "nbformat_minor": 2
}
