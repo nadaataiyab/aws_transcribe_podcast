{
 "cells": [
  {
   "cell_type": "markdown",
   "metadata": {},
   "source": [
    "# Get AWS File Names"
   ]
  },
  {
   "cell_type": "code",
   "execution_count": 38,
   "metadata": {},
   "outputs": [],
   "source": [
    "import time\n",
    "import boto3"
   ]
  },
  {
   "cell_type": "markdown",
   "metadata": {},
   "source": [
    "## Connect to S3"
   ]
  },
  {
   "cell_type": "code",
   "execution_count": 37,
   "metadata": {},
   "outputs": [],
   "source": [
    "\n",
    "conn = boto3.client('s3')"
   ]
  },
  {
   "cell_type": "markdown",
   "metadata": {},
   "source": [
    "## Get List of All Files"
   ]
  },
  {
   "cell_type": "code",
   "execution_count": 44,
   "metadata": {},
   "outputs": [],
   "source": [
    "all_objects_list = []\n",
    "for key in conn.list_objects(Bucket=mybucket)['Contents']:\n",
    "    all_objects_list.append(key['Key'])"
   ]
  },
  {
   "cell_type": "code",
   "execution_count": 45,
   "metadata": {},
   "outputs": [
    {
     "data": {
      "text/plain": [
       "['.write_access_check_file.temp',\n",
       " 'mp3-files-test-set/',\n",
       " 'mp3-files-test-set/Episode # 11_ How Stress Makes Plants More Nutritious and How This Can Teach Us a Lesson About Stress in our Own Lives.mp3']"
      ]
     },
     "execution_count": 45,
     "metadata": {},
     "output_type": "execute_result"
    }
   ],
   "source": [
    "all_objects_list[:3]"
   ]
  },
  {
   "cell_type": "markdown",
   "metadata": {},
   "source": [
    "## Get List of mp3 File Names in Test Set Folder"
   ]
  },
  {
   "cell_type": "code",
   "execution_count": 46,
   "metadata": {},
   "outputs": [],
   "source": [
    "test_set_string = 'mp3-files-test-set/Episode'"
   ]
  },
  {
   "cell_type": "code",
   "execution_count": 47,
   "metadata": {},
   "outputs": [],
   "source": [
    "test_set_list = [s for s in all_objects_list if test_set_string in s]\n"
   ]
  },
  {
   "cell_type": "code",
   "execution_count": 48,
   "metadata": {},
   "outputs": [
    {
     "data": {
      "text/plain": [
       "['mp3-files-test-set/Episode # 11_ How Stress Makes Plants More Nutritious and How This Can Teach Us a Lesson About Stress in our Own Lives.mp3',\n",
       " 'mp3-files-test-set/Episode # 16_ Seven Simple Strategies for Making Weight Loss Automatic.mp3',\n",
       " 'mp3-files-test-set/Episode # 179_ If Drug Companies Could Patent This Plant Compound, It Would Be a Billion Dollar Drug.mp3',\n",
       " \"mp3-files-test-set/Episode # 54_ Why you Shouldn't Place too Much Emphasis on Fasting Blood Measures.mp3\"]"
      ]
     },
     "execution_count": 48,
     "metadata": {},
     "output_type": "execute_result"
    }
   ],
   "source": [
    "test_set_list"
   ]
  },
  {
   "cell_type": "markdown",
   "metadata": {},
   "source": [
    "## Create List of Job Names based on Episode Number"
   ]
  },
  {
   "cell_type": "code",
   "execution_count": 50,
   "metadata": {},
   "outputs": [],
   "source": [
    "job_name_test = test_set_list[1]"
   ]
  },
  {
   "cell_type": "code",
   "execution_count": 51,
   "metadata": {},
   "outputs": [
    {
     "data": {
      "text/plain": [
       "'mp3-files-test-set/Episode # 16_ Seven Simple Strategies for Making Weight Loss Automatic.mp3'"
      ]
     },
     "execution_count": 51,
     "metadata": {},
     "output_type": "execute_result"
    }
   ],
   "source": [
    "job_name_test"
   ]
  },
  {
   "cell_type": "code",
   "execution_count": 52,
   "metadata": {},
   "outputs": [
    {
     "data": {
      "text/plain": [
       "['mp3-files-test-set',\n",
       " 'Episode # 16_ Seven Simple Strategies for Making Weight Loss Automatic.mp3']"
      ]
     },
     "execution_count": 52,
     "metadata": {},
     "output_type": "execute_result"
    }
   ],
   "source": [
    "job_name_test.split('/')"
   ]
  },
  {
   "cell_type": "code",
   "execution_count": 59,
   "metadata": {},
   "outputs": [
    {
     "data": {
      "text/plain": [
       "'Episode # 16_ Seven Simple Strategies for Making Weight Loss Automatic.mp3'"
      ]
     },
     "execution_count": 59,
     "metadata": {},
     "output_type": "execute_result"
    }
   ],
   "source": [
    "job_name_test.lstrip('mp3-files-test-set/')"
   ]
  },
  {
   "cell_type": "code",
   "execution_count": 61,
   "metadata": {},
   "outputs": [
    {
     "data": {
      "text/plain": [
       "('mp3-files-test-set/Episode # 16',\n",
       " '_',\n",
       " ' Seven Simple Strategies for Making Weight Loss Automatic.mp3')"
      ]
     },
     "execution_count": 61,
     "metadata": {},
     "output_type": "execute_result"
    }
   ],
   "source": [
    "job_name_test.partition(\"_\")"
   ]
  },
  {
   "cell_type": "code",
   "execution_count": 63,
   "metadata": {},
   "outputs": [],
   "source": [
    "job_name_list = []\n",
    "for s in test_set_list:\n",
    "    fname = s.lstrip('mp3-files-test-set/')\n",
    "    job_name_list.append(fname)\n",
    "\n"
   ]
  },
  {
   "cell_type": "code",
   "execution_count": 64,
   "metadata": {},
   "outputs": [
    {
     "data": {
      "text/plain": [
       "['Episode # 11_ How Stress Makes Plants More Nutritious and How This Can Teach Us a Lesson About Stress in our Own Lives.mp3',\n",
       " 'Episode # 16_ Seven Simple Strategies for Making Weight Loss Automatic.mp3',\n",
       " 'Episode # 179_ If Drug Companies Could Patent This Plant Compound, It Would Be a Billion Dollar Drug.mp3',\n",
       " \"Episode # 54_ Why you Shouldn't Place too Much Emphasis on Fasting Blood Measures.mp3\"]"
      ]
     },
     "execution_count": 64,
     "metadata": {},
     "output_type": "execute_result"
    }
   ],
   "source": [
    "job_name_list"
   ]
  },
  {
   "cell_type": "markdown",
   "metadata": {},
   "source": [
    "### Decided it might be better to just have the job name and file name be the same"
   ]
  },
  {
   "cell_type": "markdown",
   "metadata": {},
   "source": [
    "# Run Bulk Transcription Job"
   ]
  },
  {
   "cell_type": "code",
   "execution_count": null,
   "metadata": {},
   "outputs": [],
   "source": []
  },
  {
   "cell_type": "code",
   "execution_count": null,
   "metadata": {},
   "outputs": [],
   "source": []
  },
  {
   "cell_type": "code",
   "execution_count": null,
   "metadata": {},
   "outputs": [],
   "source": []
  },
  {
   "cell_type": "code",
   "execution_count": null,
   "metadata": {},
   "outputs": [],
   "source": []
  },
  {
   "cell_type": "code",
   "execution_count": null,
   "metadata": {},
   "outputs": [],
   "source": []
  }
 ],
 "metadata": {
  "kernelspec": {
   "display_name": "aws-transcribe",
   "language": "python",
   "name": "aws-transcribe"
  },
  "language_info": {
   "codemirror_mode": {
    "name": "ipython",
    "version": 3
   },
   "file_extension": ".py",
   "mimetype": "text/x-python",
   "name": "python",
   "nbconvert_exporter": "python",
   "pygments_lexer": "ipython3",
   "version": "3.6.5"
  }
 },
 "nbformat": 4,
 "nbformat_minor": 2
}
