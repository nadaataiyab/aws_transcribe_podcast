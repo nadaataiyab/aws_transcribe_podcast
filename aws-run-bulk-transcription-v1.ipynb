{
 "cells": [
  {
   "cell_type": "markdown",
   "metadata": {},
   "source": [
    "# Get AWS File Names"
   ]
  },
  {
   "cell_type": "code",
   "execution_count": 2,
   "metadata": {},
   "outputs": [],
   "source": [
    "import boto3"
   ]
  },
  {
   "cell_type": "markdown",
   "metadata": {},
   "source": [
    "## Connect to S3"
   ]
  },
  {
   "cell_type": "code",
   "execution_count": 3,
   "metadata": {},
   "outputs": [],
   "source": [
    "conn = boto3.client('s3')"
   ]
  },
  {
   "cell_type": "code",
   "execution_count": 4,
   "metadata": {},
   "outputs": [],
   "source": [
    "s3 = boto3.resource('s3')"
   ]
  },
  {
   "cell_type": "markdown",
   "metadata": {},
   "source": [
    "## Get List of All Files"
   ]
  },
  {
   "cell_type": "code",
   "execution_count": 12,
   "metadata": {},
   "outputs": [],
   "source": [
    "all_objects_list = []\n",
    "mybucket = 'nutrition-podcast-audio'\n",
    "for key in conn.list_objects(Bucket=mybucket)['Contents']:\n",
    "    all_objects_list.append(key['Key'])"
   ]
  },
  {
   "cell_type": "code",
   "execution_count": 13,
   "metadata": {},
   "outputs": [
    {
     "data": {
      "text/plain": [
       "['.write_access_check_file.temp',\n",
       " 'mp3-files-test-set/',\n",
       " 'mp3-files-test-set/Episode # 11_ How Stress Makes Plants More Nutritious and How This Can Teach Us a Lesson About Stress in our Own Lives.mp3']"
      ]
     },
     "execution_count": 13,
     "metadata": {},
     "output_type": "execute_result"
    }
   ],
   "source": [
    "all_objects_list[:3]"
   ]
  },
  {
   "cell_type": "code",
   "execution_count": null,
   "metadata": {},
   "outputs": [],
   "source": []
  },
  {
   "cell_type": "markdown",
   "metadata": {},
   "source": [
    "## Get List of mp3 File Names in Test Set Folder"
   ]
  },
  {
   "cell_type": "code",
   "execution_count": 14,
   "metadata": {},
   "outputs": [],
   "source": [
    "test_set_string = 'mp3-files-test-set/Episode'"
   ]
  },
  {
   "cell_type": "code",
   "execution_count": 15,
   "metadata": {},
   "outputs": [],
   "source": [
    "test_set_list = [s for s in all_objects_list if test_set_string in s]\n"
   ]
  },
  {
   "cell_type": "code",
   "execution_count": 16,
   "metadata": {},
   "outputs": [
    {
     "data": {
      "text/plain": [
       "['mp3-files-test-set/Episode # 11_ How Stress Makes Plants More Nutritious and How This Can Teach Us a Lesson About Stress in our Own Lives.mp3',\n",
       " 'mp3-files-test-set/Episode # 16_ Seven Simple Strategies for Making Weight Loss Automatic.mp3',\n",
       " 'mp3-files-test-set/Episode # 179_ If Drug Companies Could Patent This Plant Compound, It Would Be a Billion Dollar Drug.mp3',\n",
       " \"mp3-files-test-set/Episode # 54_ Why you Shouldn't Place too Much Emphasis on Fasting Blood Measures.mp3\"]"
      ]
     },
     "execution_count": 16,
     "metadata": {},
     "output_type": "execute_result"
    }
   ],
   "source": [
    "test_set_list"
   ]
  },
  {
   "cell_type": "markdown",
   "metadata": {},
   "source": [
    "## Create List of Job Names based on Episode Number"
   ]
  },
  {
   "cell_type": "code",
   "execution_count": 17,
   "metadata": {},
   "outputs": [],
   "source": [
    "job_name_test = test_set_list[1]"
   ]
  },
  {
   "cell_type": "code",
   "execution_count": 18,
   "metadata": {},
   "outputs": [
    {
     "data": {
      "text/plain": [
       "'mp3-files-test-set/Episode # 16_ Seven Simple Strategies for Making Weight Loss Automatic.mp3'"
      ]
     },
     "execution_count": 18,
     "metadata": {},
     "output_type": "execute_result"
    }
   ],
   "source": [
    "job_name_test"
   ]
  },
  {
   "cell_type": "code",
   "execution_count": 19,
   "metadata": {},
   "outputs": [
    {
     "data": {
      "text/plain": [
       "['mp3-files-test-set',\n",
       " 'Episode # 16_ Seven Simple Strategies for Making Weight Loss Automatic.mp3']"
      ]
     },
     "execution_count": 19,
     "metadata": {},
     "output_type": "execute_result"
    }
   ],
   "source": [
    "job_name_test.split('/')"
   ]
  },
  {
   "cell_type": "code",
   "execution_count": 20,
   "metadata": {},
   "outputs": [
    {
     "data": {
      "text/plain": [
       "'Episode # 16_ Seven Simple Strategies for Making Weight Loss Automatic.mp3'"
      ]
     },
     "execution_count": 20,
     "metadata": {},
     "output_type": "execute_result"
    }
   ],
   "source": [
    "job_name_test.lstrip('mp3-files-test-set/')"
   ]
  },
  {
   "cell_type": "code",
   "execution_count": 21,
   "metadata": {},
   "outputs": [
    {
     "data": {
      "text/plain": [
       "('mp3-files-test-set/Episode # 16',\n",
       " '_',\n",
       " ' Seven Simple Strategies for Making Weight Loss Automatic.mp3')"
      ]
     },
     "execution_count": 21,
     "metadata": {},
     "output_type": "execute_result"
    }
   ],
   "source": [
    "job_name_test.partition(\"_\")"
   ]
  },
  {
   "cell_type": "code",
   "execution_count": 49,
   "metadata": {},
   "outputs": [],
   "source": [
    "head, sep, tail = job_name_test.partition(\"_\")"
   ]
  },
  {
   "cell_type": "code",
   "execution_count": 52,
   "metadata": {},
   "outputs": [],
   "source": [
    "head = head.lstrip('mp3-files-test-set/')"
   ]
  },
  {
   "cell_type": "code",
   "execution_count": 53,
   "metadata": {},
   "outputs": [
    {
     "data": {
      "text/plain": [
       "'Episode_#_16'"
      ]
     },
     "execution_count": 53,
     "metadata": {},
     "output_type": "execute_result"
    }
   ],
   "source": [
    "head.replace(\" \", \"_\")"
   ]
  },
  {
   "cell_type": "code",
   "execution_count": 68,
   "metadata": {},
   "outputs": [],
   "source": [
    "job_name_list = []\n",
    "for s in test_set_list:\n",
    "    jname = s.lstrip('mp3-files-test-set/')\n",
    "    head, sep, tail = jname.partition(\"_\")\n",
    "    head = head.replace(\" \", \"\")\n",
    "    head = head.replace(\"#\", \"-\")\n",
    "    job_name_list.append(head)\n",
    "\n"
   ]
  },
  {
   "cell_type": "code",
   "execution_count": 69,
   "metadata": {},
   "outputs": [
    {
     "data": {
      "text/plain": [
       "['Episode-11', 'Episode-16', 'Episode-179', 'Episode-54']"
      ]
     },
     "execution_count": 69,
     "metadata": {},
     "output_type": "execute_result"
    }
   ],
   "source": [
    "job_name_list"
   ]
  },
  {
   "cell_type": "markdown",
   "metadata": {},
   "source": [
    "### Decided it might be better to just have the job name and file name be the same (but will having .mp3 mess it up?"
   ]
  },
  {
   "cell_type": "markdown",
   "metadata": {},
   "source": [
    "# Test Regular Transcription Job"
   ]
  },
  {
   "cell_type": "code",
   "execution_count": 26,
   "metadata": {},
   "outputs": [],
   "source": [
    "import time"
   ]
  },
  {
   "cell_type": "code",
   "execution_count": 27,
   "metadata": {},
   "outputs": [],
   "source": [
    "transcribe = boto3.client('transcribe', region_name=\"us-west-2\")"
   ]
  },
  {
   "cell_type": "code",
   "execution_count": null,
   "metadata": {},
   "outputs": [],
   "source": [
    "url = '{}/{}/{}'.format(conn.meta.endpoint_url, mybucket, test_set_list[0])\n",
    "print(url)"
   ]
  },
  {
   "cell_type": "code",
   "execution_count": 29,
   "metadata": {},
   "outputs": [
    {
     "name": "stdout",
     "output_type": "stream",
     "text": [
      "Not ready yet...\n",
      "Not ready yet...\n",
      "Not ready yet...\n",
      "Not ready yet...\n",
      "Not ready yet...\n",
      "Not ready yet...\n",
      "Not ready yet...\n",
      "Not ready yet...\n",
      "Not ready yet...\n",
      "Not ready yet...\n",
      "Not ready yet...\n",
      "Not ready yet...\n",
      "Not ready yet...\n",
      "Not ready yet...\n",
      "Not ready yet...\n",
      "Not ready yet...\n",
      "Not ready yet...\n",
      "Not ready yet...\n",
      "Not ready yet...\n",
      "Not ready yet...\n",
      "Not ready yet...\n",
      "Not ready yet...\n",
      "Not ready yet...\n",
      "Not ready yet...\n",
      "Not ready yet...\n",
      "Not ready yet...\n",
      "Not ready yet...\n",
      "Not ready yet...\n",
      "Not ready yet...\n",
      "Not ready yet...\n",
      "Not ready yet...\n",
      "Not ready yet...\n",
      "Not ready yet...\n",
      "Not ready yet...\n",
      "Not ready yet...\n",
      "Not ready yet...\n",
      "Not ready yet...\n",
      "Not ready yet...\n",
      "Not ready yet...\n",
      "Not ready yet...\n",
      "Not ready yet...\n",
      "Not ready yet...\n",
      "Not ready yet...\n",
      "Not ready yet...\n",
      "Not ready yet...\n",
      "Not ready yet...\n",
      "Not ready yet...\n",
      "Not ready yet...\n",
      "Not ready yet...\n",
      "Not ready yet...\n",
      "Not ready yet...\n",
      "Not ready yet...\n",
      "Not ready yet...\n",
      "Not ready yet...\n",
      "Not ready yet...\n",
      "Not ready yet...\n",
      "{'TranscriptionJob': {'TranscriptionJobName': 'podcast_test_3', 'TranscriptionJobStatus': 'COMPLETED', 'LanguageCode': 'en-US', 'MediaSampleRateHertz': 44100, 'MediaFormat': 'mp3', 'Media': {'MediaFileUri': 'https://s3.amazonaws.com/nutrition-podcast-audio/mp3-files-test-set/Episode # 11_ How Stress Makes Plants More Nutritious and How This Can Teach Us a Lesson About Stress in our Own Lives.mp3'}, 'Transcript': {'TranscriptFileUri': 'https://s3.us-west-2.amazonaws.com/nutrition-podcast-audio/podcast_test_3.json'}, 'CreationTime': datetime.datetime(2018, 8, 16, 14, 29, 24, 850000, tzinfo=tzlocal()), 'CompletionTime': datetime.datetime(2018, 8, 16, 14, 34, 7, 6000, tzinfo=tzlocal()), 'Settings': {}}, 'ResponseMetadata': {'RequestId': '1d0e0c0d-a19c-11e8-821c-d3a74e1ecac2', 'HTTPStatusCode': 200, 'HTTPHeaders': {'content-type': 'application/x-amz-json-1.1', 'date': 'Thu, 16 Aug 2018 21:34:10 GMT', 'x-amzn-requestid': '1d0e0c0d-a19c-11e8-821c-d3a74e1ecac2', 'content-length': '613', 'connection': 'keep-alive'}, 'RetryAttempts': 0}}\n"
     ]
    }
   ],
   "source": [
    "job_name = \"podcast_test_3\"\n",
    "job_uri = url\n",
    "output_bucket = \"nutrition-podcast-audio\"\n",
    "transcribe.start_transcription_job(\n",
    "    TranscriptionJobName=job_name,\n",
    "    Media={'MediaFileUri': job_uri},\n",
    "    MediaFormat='mp3',\n",
    "    LanguageCode='en-US',\n",
    "    OutputBucketName=output_bucket\n",
    ")\n",
    "while True:\n",
    "    status = transcribe.get_transcription_job(TranscriptionJobName=job_name)\n",
    "    if status['TranscriptionJob']['TranscriptionJobStatus'] in ['COMPLETED', 'FAILED']:\n",
    "        break\n",
    "    print(\"Not ready yet...\")\n",
    "    time.sleep(5)\n",
    "print(status)"
   ]
  },
  {
   "cell_type": "markdown",
   "metadata": {},
   "source": [
    "# Zip list of file and job names"
   ]
  },
  {
   "cell_type": "code",
   "execution_count": 79,
   "metadata": {},
   "outputs": [
    {
     "data": {
      "text/plain": [
       "['mp3-files-test-set/Episode # 11_ How Stress Makes Plants More Nutritious and How This Can Teach Us a Lesson About Stress in our Own Lives.mp3',\n",
       " 'mp3-files-test-set/Episode # 16_ Seven Simple Strategies for Making Weight Loss Automatic.mp3',\n",
       " 'mp3-files-test-set/Episode # 179_ If Drug Companies Could Patent This Plant Compound, It Would Be a Billion Dollar Drug.mp3',\n",
       " \"mp3-files-test-set/Episode # 54_ Why you Shouldn't Place too Much Emphasis on Fasting Blood Measures.mp3\"]"
      ]
     },
     "execution_count": 79,
     "metadata": {},
     "output_type": "execute_result"
    }
   ],
   "source": [
    "test_set_list"
   ]
  },
  {
   "cell_type": "code",
   "execution_count": 80,
   "metadata": {},
   "outputs": [],
   "source": [
    "test_uri_list = []\n",
    "for fname in test_set_list:\n",
    "    url = '{}/{}/{}'.format(conn.meta.endpoint_url, mybucket, fname)\n",
    "    test_uri_list.append(url)"
   ]
  },
  {
   "cell_type": "code",
   "execution_count": 81,
   "metadata": {},
   "outputs": [
    {
     "data": {
      "text/plain": [
       "['Episode-11', 'Episode-16', 'Episode-179', 'Episode-54']"
      ]
     },
     "execution_count": 81,
     "metadata": {},
     "output_type": "execute_result"
    }
   ],
   "source": [
    "job_name_list"
   ]
  },
  {
   "cell_type": "code",
   "execution_count": 82,
   "metadata": {},
   "outputs": [],
   "source": [
    "file_job_names = list(zip(test_uri_list, job_name_list))"
   ]
  },
  {
   "cell_type": "code",
   "execution_count": 83,
   "metadata": {},
   "outputs": [
    {
     "name": "stdout",
     "output_type": "stream",
     "text": [
      "https://s3.amazonaws.com/nutrition-podcast-audio/mp3-files-test-set/Episode # 11_ How Stress Makes Plants More Nutritious and How This Can Teach Us a Lesson About Stress in our Own Lives.mp3\n",
      "Episode-11\n",
      "https://s3.amazonaws.com/nutrition-podcast-audio/mp3-files-test-set/Episode # 16_ Seven Simple Strategies for Making Weight Loss Automatic.mp3\n",
      "Episode-16\n",
      "https://s3.amazonaws.com/nutrition-podcast-audio/mp3-files-test-set/Episode # 179_ If Drug Companies Could Patent This Plant Compound, It Would Be a Billion Dollar Drug.mp3\n",
      "Episode-179\n",
      "https://s3.amazonaws.com/nutrition-podcast-audio/mp3-files-test-set/Episode # 54_ Why you Shouldn't Place too Much Emphasis on Fasting Blood Measures.mp3\n",
      "Episode-54\n"
     ]
    }
   ],
   "source": [
    "for f, j in file_job_names:\n",
    "    print(f)\n",
    "    print(j)"
   ]
  },
  {
   "cell_type": "markdown",
   "metadata": {},
   "source": [
    "# Bulk Transcription"
   ]
  },
  {
   "cell_type": "code",
   "execution_count": 84,
   "metadata": {},
   "outputs": [
    {
     "name": "stdout",
     "output_type": "stream",
     "text": [
      "Not ready yet...\n",
      "Not ready yet...\n",
      "Not ready yet...\n",
      "Not ready yet...\n",
      "Not ready yet...\n",
      "Not ready yet...\n",
      "Not ready yet...\n",
      "Not ready yet...\n",
      "Not ready yet...\n",
      "Not ready yet...\n",
      "Not ready yet...\n",
      "Not ready yet...\n",
      "Not ready yet...\n",
      "Not ready yet...\n",
      "Not ready yet...\n",
      "Not ready yet...\n",
      "Not ready yet...\n",
      "Not ready yet...\n",
      "Not ready yet...\n",
      "Not ready yet...\n",
      "Not ready yet...\n",
      "Not ready yet...\n",
      "Not ready yet...\n",
      "Not ready yet...\n",
      "Not ready yet...\n",
      "Not ready yet...\n",
      "Not ready yet...\n",
      "Not ready yet...\n",
      "Not ready yet...\n",
      "Not ready yet...\n",
      "Not ready yet...\n",
      "Not ready yet...\n",
      "Not ready yet...\n",
      "Not ready yet...\n",
      "Not ready yet...\n",
      "Not ready yet...\n",
      "Not ready yet...\n",
      "Not ready yet...\n",
      "Not ready yet...\n",
      "Not ready yet...\n",
      "Not ready yet...\n",
      "Not ready yet...\n",
      "Not ready yet...\n",
      "Not ready yet...\n",
      "Not ready yet...\n",
      "Not ready yet...\n",
      "Not ready yet...\n",
      "Not ready yet...\n",
      "Not ready yet...\n",
      "Not ready yet...\n",
      "Not ready yet...\n",
      "Not ready yet...\n",
      "Not ready yet...\n",
      "Not ready yet...\n",
      "Not ready yet...\n",
      "Not ready yet...\n",
      "{'TranscriptionJob': {'TranscriptionJobName': 'Episode-11', 'TranscriptionJobStatus': 'COMPLETED', 'LanguageCode': 'en-US', 'MediaSampleRateHertz': 44100, 'MediaFormat': 'mp3', 'Media': {'MediaFileUri': 'https://s3.amazonaws.com/nutrition-podcast-audio/mp3-files-test-set/Episode # 11_ How Stress Makes Plants More Nutritious and How This Can Teach Us a Lesson About Stress in our Own Lives.mp3'}, 'Transcript': {'TranscriptFileUri': 'https://s3.us-west-2.amazonaws.com/nutrition-podcast-audio/Episode-11.json'}, 'CreationTime': datetime.datetime(2018, 8, 16, 14, 53, 50, 826000, tzinfo=tzlocal()), 'CompletionTime': datetime.datetime(2018, 8, 16, 14, 58, 32, 954000, tzinfo=tzlocal()), 'Settings': {}}, 'ResponseMetadata': {'RequestId': '86b8a5dc-a19f-11e8-a2fc-714ab2560177', 'HTTPStatusCode': 200, 'HTTPHeaders': {'content-type': 'application/x-amz-json-1.1', 'date': 'Thu, 16 Aug 2018 21:58:36 GMT', 'x-amzn-requestid': '86b8a5dc-a19f-11e8-a2fc-714ab2560177', 'content-length': '606', 'connection': 'keep-alive'}, 'RetryAttempts': 0}}\n",
      "Not ready yet...\n",
      "Not ready yet...\n",
      "Not ready yet...\n",
      "Not ready yet...\n",
      "Not ready yet...\n",
      "Not ready yet...\n",
      "Not ready yet...\n",
      "Not ready yet...\n",
      "Not ready yet...\n",
      "Not ready yet...\n",
      "Not ready yet...\n",
      "Not ready yet...\n",
      "Not ready yet...\n",
      "Not ready yet...\n",
      "Not ready yet...\n",
      "Not ready yet...\n",
      "Not ready yet...\n",
      "Not ready yet...\n",
      "Not ready yet...\n",
      "Not ready yet...\n",
      "Not ready yet...\n",
      "Not ready yet...\n",
      "Not ready yet...\n",
      "Not ready yet...\n",
      "Not ready yet...\n",
      "Not ready yet...\n",
      "Not ready yet...\n",
      "Not ready yet...\n",
      "Not ready yet...\n",
      "Not ready yet...\n",
      "Not ready yet...\n",
      "Not ready yet...\n",
      "Not ready yet...\n",
      "Not ready yet...\n",
      "Not ready yet...\n",
      "Not ready yet...\n",
      "Not ready yet...\n",
      "Not ready yet...\n",
      "Not ready yet...\n",
      "Not ready yet...\n",
      "Not ready yet...\n",
      "Not ready yet...\n",
      "Not ready yet...\n",
      "Not ready yet...\n",
      "Not ready yet...\n",
      "Not ready yet...\n",
      "Not ready yet...\n",
      "Not ready yet...\n",
      "Not ready yet...\n",
      "Not ready yet...\n",
      "Not ready yet...\n",
      "Not ready yet...\n",
      "Not ready yet...\n",
      "Not ready yet...\n",
      "Not ready yet...\n",
      "Not ready yet...\n",
      "Not ready yet...\n",
      "Not ready yet...\n",
      "Not ready yet...\n",
      "Not ready yet...\n",
      "Not ready yet...\n",
      "Not ready yet...\n",
      "Not ready yet...\n",
      "Not ready yet...\n",
      "{'TranscriptionJob': {'TranscriptionJobName': 'Episode-16', 'TranscriptionJobStatus': 'COMPLETED', 'LanguageCode': 'en-US', 'MediaSampleRateHertz': 44100, 'MediaFormat': 'mp3', 'Media': {'MediaFileUri': 'https://s3.amazonaws.com/nutrition-podcast-audio/mp3-files-test-set/Episode # 16_ Seven Simple Strategies for Making Weight Loss Automatic.mp3'}, 'Transcript': {'TranscriptFileUri': 'https://s3.us-west-2.amazonaws.com/nutrition-podcast-audio/Episode-16.json'}, 'CreationTime': datetime.datetime(2018, 8, 16, 14, 58, 36, 850000, tzinfo=tzlocal()), 'CompletionTime': datetime.datetime(2018, 8, 16, 15, 3, 58, 986000, tzinfo=tzlocal()), 'Settings': {}}, 'ResponseMetadata': {'RequestId': '492682fa-a1a0-11e8-a2fc-714ab2560177', 'HTTPStatusCode': 200, 'HTTPHeaders': {'content-type': 'application/x-amz-json-1.1', 'date': 'Thu, 16 Aug 2018 22:04:02 GMT', 'x-amzn-requestid': '492682fa-a1a0-11e8-a2fc-714ab2560177', 'content-length': '557', 'connection': 'keep-alive'}, 'RetryAttempts': 0}}\n",
      "Not ready yet...\n",
      "Not ready yet...\n",
      "Not ready yet...\n",
      "Not ready yet...\n",
      "Not ready yet...\n",
      "Not ready yet...\n",
      "Not ready yet...\n",
      "Not ready yet...\n",
      "Not ready yet...\n",
      "Not ready yet...\n",
      "Not ready yet...\n",
      "Not ready yet...\n",
      "Not ready yet...\n",
      "Not ready yet...\n",
      "Not ready yet...\n",
      "Not ready yet...\n",
      "Not ready yet...\n",
      "Not ready yet...\n",
      "Not ready yet...\n",
      "Not ready yet...\n",
      "Not ready yet...\n",
      "Not ready yet...\n",
      "Not ready yet...\n",
      "Not ready yet...\n",
      "Not ready yet...\n",
      "Not ready yet...\n",
      "Not ready yet...\n",
      "Not ready yet...\n",
      "Not ready yet...\n",
      "Not ready yet...\n",
      "Not ready yet...\n",
      "Not ready yet...\n",
      "Not ready yet...\n",
      "Not ready yet...\n",
      "Not ready yet...\n",
      "Not ready yet...\n",
      "Not ready yet...\n",
      "Not ready yet...\n",
      "Not ready yet...\n",
      "Not ready yet...\n",
      "Not ready yet...\n",
      "Not ready yet...\n",
      "Not ready yet...\n",
      "Not ready yet...\n",
      "Not ready yet...\n",
      "Not ready yet...\n",
      "Not ready yet...\n",
      "Not ready yet...\n",
      "Not ready yet...\n",
      "Not ready yet...\n",
      "Not ready yet...\n",
      "Not ready yet...\n",
      "Not ready yet...\n",
      "Not ready yet...\n",
      "Not ready yet...\n",
      "Not ready yet...\n",
      "Not ready yet...\n",
      "Not ready yet...\n",
      "Not ready yet...\n",
      "Not ready yet...\n",
      "Not ready yet...\n",
      "Not ready yet...\n",
      "Not ready yet...\n",
      "Not ready yet...\n",
      "Not ready yet...\n",
      "Not ready yet...\n",
      "Not ready yet...\n",
      "Not ready yet...\n",
      "Not ready yet...\n",
      "Not ready yet...\n",
      "Not ready yet...\n",
      "Not ready yet...\n",
      "Not ready yet...\n",
      "Not ready yet...\n",
      "Not ready yet...\n",
      "Not ready yet...\n",
      "{'TranscriptionJob': {'TranscriptionJobName': 'Episode-179', 'TranscriptionJobStatus': 'COMPLETED', 'LanguageCode': 'en-US', 'MediaSampleRateHertz': 44100, 'MediaFormat': 'mp3', 'Media': {'MediaFileUri': 'https://s3.amazonaws.com/nutrition-podcast-audio/mp3-files-test-set/Episode # 179_ If Drug Companies Could Patent This Plant Compound, It Would Be a Billion Dollar Drug.mp3'}, 'Transcript': {'TranscriptFileUri': 'https://s3.us-west-2.amazonaws.com/nutrition-podcast-audio/Episode-179.json'}, 'CreationTime': datetime.datetime(2018, 8, 16, 15, 4, 3, 49000, tzinfo=tzlocal()), 'CompletionTime': datetime.datetime(2018, 8, 16, 15, 10, 25, 491000, tzinfo=tzlocal()), 'Settings': {}}, 'ResponseMetadata': {'RequestId': '2fe8c294-a1a1-11e8-821c-d3a74e1ecac2', 'HTTPStatusCode': 200, 'HTTPHeaders': {'content-type': 'application/x-amz-json-1.1', 'date': 'Thu, 16 Aug 2018 22:10:29 GMT', 'x-amzn-requestid': '2fe8c294-a1a1-11e8-821c-d3a74e1ecac2', 'content-length': '590', 'connection': 'keep-alive'}, 'RetryAttempts': 0}}\n",
      "Not ready yet...\n",
      "Not ready yet...\n",
      "Not ready yet...\n",
      "Not ready yet...\n",
      "Not ready yet...\n",
      "Not ready yet...\n",
      "Not ready yet...\n",
      "Not ready yet...\n",
      "Not ready yet...\n",
      "Not ready yet...\n",
      "Not ready yet...\n",
      "Not ready yet...\n",
      "Not ready yet...\n",
      "Not ready yet...\n",
      "Not ready yet...\n",
      "Not ready yet...\n",
      "Not ready yet...\n",
      "Not ready yet...\n",
      "Not ready yet...\n",
      "Not ready yet...\n",
      "Not ready yet...\n",
      "Not ready yet...\n",
      "Not ready yet...\n",
      "Not ready yet...\n",
      "Not ready yet...\n",
      "Not ready yet...\n",
      "Not ready yet...\n",
      "Not ready yet...\n",
      "Not ready yet...\n",
      "Not ready yet...\n",
      "Not ready yet...\n",
      "Not ready yet...\n",
      "Not ready yet...\n",
      "Not ready yet...\n",
      "Not ready yet...\n",
      "Not ready yet...\n",
      "Not ready yet...\n",
      "Not ready yet...\n",
      "Not ready yet...\n",
      "Not ready yet...\n",
      "Not ready yet...\n",
      "Not ready yet...\n",
      "Not ready yet...\n",
      "Not ready yet...\n",
      "Not ready yet...\n",
      "Not ready yet...\n",
      "Not ready yet...\n",
      "Not ready yet...\n",
      "Not ready yet...\n",
      "Not ready yet...\n",
      "Not ready yet...\n",
      "Not ready yet...\n",
      "Not ready yet...\n",
      "Not ready yet...\n",
      "Not ready yet...\n",
      "Not ready yet...\n",
      "Not ready yet...\n",
      "Not ready yet...\n",
      "Not ready yet...\n",
      "Not ready yet...\n",
      "Not ready yet...\n",
      "Not ready yet...\n",
      "Not ready yet...\n",
      "Not ready yet...\n",
      "Not ready yet...\n",
      "Not ready yet...\n",
      "Not ready yet...\n",
      "Not ready yet...\n",
      "{'TranscriptionJob': {'TranscriptionJobName': 'Episode-54', 'TranscriptionJobStatus': 'COMPLETED', 'LanguageCode': 'en-US', 'MediaSampleRateHertz': 44100, 'MediaFormat': 'mp3', 'Media': {'MediaFileUri': \"https://s3.amazonaws.com/nutrition-podcast-audio/mp3-files-test-set/Episode # 54_ Why you Shouldn't Place too Much Emphasis on Fasting Blood Measures.mp3\"}, 'Transcript': {'TranscriptFileUri': 'https://s3.us-west-2.amazonaws.com/nutrition-podcast-audio/Episode-54.json'}, 'CreationTime': datetime.datetime(2018, 8, 16, 15, 10, 30, 387000, tzinfo=tzlocal()), 'CompletionTime': datetime.datetime(2018, 8, 16, 15, 16, 13, 321000, tzinfo=tzlocal()), 'Settings': {}}, 'ResponseMetadata': {'RequestId': 'fea84f91-a1a1-11e8-821c-d3a74e1ecac2', 'HTTPStatusCode': 200, 'HTTPHeaders': {'content-type': 'application/x-amz-json-1.1', 'date': 'Thu, 16 Aug 2018 22:16:16 GMT', 'x-amzn-requestid': 'fea84f91-a1a1-11e8-821c-d3a74e1ecac2', 'content-length': '569', 'connection': 'keep-alive'}, 'RetryAttempts': 0}}\n"
     ]
    }
   ],
   "source": [
    "output_bucket = \"nutrition-podcast-audio\"\n",
    "for f, j in file_job_names:\n",
    "    job_name = j\n",
    "    job_uri = f\n",
    "    \n",
    "    transcribe.start_transcription_job(\n",
    "    TranscriptionJobName=job_name,\n",
    "    Media={'MediaFileUri': job_uri},\n",
    "    MediaFormat='mp3',\n",
    "    LanguageCode='en-US',\n",
    "    OutputBucketName=output_bucket)\n",
    "\n",
    "    while True:\n",
    "        status = transcribe.get_transcription_job(TranscriptionJobName=job_name)\n",
    "        if status['TranscriptionJob']['TranscriptionJobStatus'] in ['COMPLETED', 'FAILED']:\n",
    "            break\n",
    "        print(\"Not ready yet...\")\n",
    "        time.sleep(5)\n",
    "    print(status)\n",
    "    "
   ]
  },
  {
   "cell_type": "code",
   "execution_count": null,
   "metadata": {},
   "outputs": [],
   "source": [
    "try:\n",
    "    s3.Bucket(BUCKET_NAME).download_file(KEY, 'my_local_image.jpg')\n",
    "except botocore.exceptions.ClientError as e:\n",
    "    if e.response['Error']['Code'] == \"404\":\n",
    "        print(\"The object does not exist.\")\n",
    "    else:\n",
    "        raise"
   ]
  },
  {
   "cell_type": "code",
   "execution_count": null,
   "metadata": {},
   "outputs": [],
   "source": [
    "import os\n",
    "import boto3\n",
    "\n",
    "#intiate s3 resource\n",
    "s3 = boto3.resource('s3')\n",
    "\n",
    "# select bucket\n",
    "my_bucket = s3.Bucket('my_bucket_name')\n",
    "\n",
    "# download file into current directory\n",
    "for object in my_bucket.objects.all():\n",
    "    my_bucket.download_file(object.key, os.path.join(os.curdir, object.key))"
   ]
  },
  {
   "cell_type": "code",
   "execution_count": null,
   "metadata": {},
   "outputs": [],
   "source": []
  },
  {
   "cell_type": "code",
   "execution_count": null,
   "metadata": {},
   "outputs": [],
   "source": []
  },
  {
   "cell_type": "code",
   "execution_count": null,
   "metadata": {},
   "outputs": [],
   "source": []
  }
 ],
 "metadata": {
  "kernelspec": {
   "display_name": "aws-transcribe",
   "language": "python",
   "name": "aws-transcribe"
  },
  "language_info": {
   "codemirror_mode": {
    "name": "ipython",
    "version": 3
   },
   "file_extension": ".py",
   "mimetype": "text/x-python",
   "name": "python",
   "nbconvert_exporter": "python",
   "pygments_lexer": "ipython3",
   "version": "3.6.5"
  }
 },
 "nbformat": 4,
 "nbformat_minor": 2
}
